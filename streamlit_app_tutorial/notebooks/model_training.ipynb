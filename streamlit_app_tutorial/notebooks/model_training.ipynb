{
 "cells": [
  {
   "cell_type": "markdown",
   "id": "b50516d8-499c-4471-90e2-6bb61036412e",
   "metadata": {},
   "source": [
    "Code for training the ML model to predict customer churn.\n",
    "\n",
    "This model will later be deployed."
   ]
  },
  {
   "cell_type": "code",
   "execution_count": 1,
   "id": "44fc7a5e-5098-478b-9b00-bd6229698d59",
   "metadata": {},
   "outputs": [],
   "source": [
    "import pickle\n",
    "import pandas as pd\n",
    "from sklearn.preprocessing import LabelEncoder\n",
    "from sklearn.linear_model import LogisticRegression\n",
    "from sklearn.metrics import precision_recall_fscore_support, accuracy_score"
   ]
  },
  {
   "cell_type": "code",
   "execution_count": 2,
   "id": "daf52f67-d36b-4feb-83a3-d0ab16643f7d",
   "metadata": {},
   "outputs": [],
   "source": [
    "# get training data\n",
    "train = pd.read_csv(\"./data/training_data.csv\")\n",
    "# drop customer ID: not a feature for training \n",
    "train.drop(\"customerID\", axis=1, inplace=True)\n",
    "\n",
    "# getting validation data\n",
    "val = pd.read_csv(\"./data/validation_data.csv\")"
   ]
  },
  {
   "cell_type": "markdown",
   "id": "708a1354-3e4c-4b22-b338-65cc2d2edcd2",
   "metadata": {},
   "source": [
    "Data Pre-Processing\n",
    "\n",
    "The following columns need to be fixed in order to train the model:\n",
    "1. All yes/no categories category encoded\n",
    "2. All category columns category encoded\n",
    "3. \"Churn\" column category encoded"
   ]
  },
  {
   "cell_type": "code",
   "execution_count": 3,
   "id": "b063c57c-6189-4461-ae15-7201775e8f0d",
   "metadata": {},
   "outputs": [],
   "source": [
    "categorical_columns = ['gender', 'SeniorCitizen', 'Partner', 'Dependents',\n",
    "       'PhoneService', 'MultipleLines', 'InternetService',\n",
    "       'OnlineSecurity', 'OnlineBackup', 'DeviceProtection', 'TechSupport',\n",
    "       'StreamingTV', 'StreamingMovies', 'Contract', 'PaperlessBilling',\n",
    "       'PaymentMethod', 'Churn']\n",
    "# converting all the categorical columns to numeric\n",
    "col_mapper = {}\n",
    "for col in categorical_columns:\n",
    "    le = LabelEncoder()\n",
    "    le.fit(train.loc[:, col])\n",
    "    class_names = le.classes_\n",
    "    train.loc[:, col] = le.transform(train.loc[:, col])\n",
    "    # saving encoder for each column to be able to inverse-transform later\n",
    "    col_mapper.update({col: le})\n",
    "\n",
    "train.replace(\" \", \"0\", inplace=True)\n",
    "\n",
    "# converting \"Total Charges\" to numeric\n",
    "train.loc[:, \"TotalCharges\"] = pd.to_numeric(train.loc[:, \"TotalCharges\"])"
   ]
  },
  {
   "cell_type": "markdown",
   "id": "112a0390-7bc8-4181-9467-7169db605f38",
   "metadata": {},
   "source": [
    "Converting data pre-processing steps to a function to apply to new data"
   ]
  },
  {
   "cell_type": "code",
   "execution_count": 4,
   "id": "12d4ad2a-1bdf-425c-bdbc-1f20bd3c38dc",
   "metadata": {},
   "outputs": [],
   "source": [
    "def pre_process_data(df, label_encoder_dict):\n",
    "    df.drop(\"customerID\", axis=1, inplace=True)\n",
    "    for col in df.columns:\n",
    "        if col in list(label_encoder_dict.keys()):\n",
    "            column_le = label_encoder_dict[col]\n",
    "            df.loc[:, col] = column_le.transform(df.loc[:, col])\n",
    "        else:\n",
    "            continue\n",
    "\n",
    "    return df"
   ]
  },
  {
   "cell_type": "markdown",
   "id": "2f9512ec-813a-4361-a562-42ef4353718e",
   "metadata": {},
   "source": [
    "Training model"
   ]
  },
  {
   "cell_type": "code",
   "execution_count": 5,
   "id": "47e75811-b9d8-45a0-91cd-d9c8dd81a0e9",
   "metadata": {},
   "outputs": [
    {
     "data": {
      "text/plain": [
       "LogisticRegression(max_iter=1000)"
      ]
     },
     "execution_count": 5,
     "metadata": {},
     "output_type": "execute_result"
    }
   ],
   "source": [
    "# splitting into X and Y\n",
    "x_train = train.drop(\"Churn\", axis=1)\n",
    "y_train = train.loc[:, \"Churn\"]\n",
    "\n",
    "# fitting model\n",
    "model = LogisticRegression(max_iter=1000)\n",
    "model.fit(x_train, y_train)"
   ]
  },
  {
   "cell_type": "markdown",
   "id": "5acc779f-ae14-4ed5-8585-ea37bd52e62f",
   "metadata": {},
   "source": [
    "Checking model accuracy on validation set"
   ]
  },
  {
   "cell_type": "code",
   "execution_count": 6,
   "id": "134db305-92cb-427a-97c4-02f8a98d887a",
   "metadata": {},
   "outputs": [
    {
     "name": "stdout",
     "output_type": "stream",
     "text": [
      "Validation accuracy is: 0.832\n"
     ]
    }
   ],
   "source": [
    "# pre-processing validation data\n",
    "val = pre_process_data(val, col_mapper)\n",
    "\n",
    "# split validation set \n",
    "x_val = val.drop(\"Churn\", axis=1)\n",
    "y_val = val.loc[:, \"Churn\"]\n",
    "\n",
    "# predicting on validation\n",
    "predictions = model.predict(x_val)\n",
    "precision, recall, fscore, support = precision_recall_fscore_support(y_val, predictions)\n",
    "accuracy = accuracy_score(y_val, predictions)\n",
    "print(f\"Validation accuracy is: {round(accuracy, 3)}\")"
   ]
  }
 ],
 "metadata": {
  "kernelspec": {
   "display_name": "Python 3 (ipykernel)",
   "language": "python",
   "name": "python3"
  },
  "language_info": {
   "codemirror_mode": {
    "name": "ipython",
    "version": 3
   },
   "file_extension": ".py",
   "mimetype": "text/x-python",
   "name": "python",
   "nbconvert_exporter": "python",
   "pygments_lexer": "ipython3",
   "version": "3.7.9"
  }
 },
 "nbformat": 4,
 "nbformat_minor": 5
}
